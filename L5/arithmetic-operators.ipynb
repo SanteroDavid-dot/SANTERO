{
 "cells": [
  {
   "cell_type": "markdown",
   "id": "6989db27",
   "metadata": {},
   "source": [
    " # Arithmetic Operators <hr style=\"border:2.5px solid #126782\"></hr>"
   ]
  },
  {
   "cell_type": "markdown",
   "id": "25300d2c",
   "metadata": {},
   "source": [
    "Data Analyst: David Lauden R. Santero <br>\n",
    "Department: Electrical Engineering"
   ]
  },
  {
   "cell_type": "markdown",
   "id": "df84bb4e",
   "metadata": {},
   "source": [
    "# Addition"
   ]
  },
  {
   "cell_type": "code",
   "execution_count": 1,
   "id": "f9cb1b55",
   "metadata": {},
   "outputs": [
    {
     "name": "stdout",
     "output_type": "stream",
     "text": [
      "8\n"
     ]
    }
   ],
   "source": [
    "a = 5\n",
    "b = 3\n",
    "c = a + b\n",
    "print (c)"
   ]
  },
  {
   "cell_type": "markdown",
   "id": "02740f39",
   "metadata": {},
   "source": [
    "# Subtraction "
   ]
  },
  {
   "cell_type": "code",
   "execution_count": 2,
   "id": "8459c3ac",
   "metadata": {},
   "outputs": [
    {
     "name": "stdout",
     "output_type": "stream",
     "text": [
      "The difference is6\n"
     ]
    }
   ],
   "source": [
    "a = 10 \n",
    "b = 4\n",
    "c = a - b\n",
    "print (\"The difference is\" + str(c))"
   ]
  },
  {
   "cell_type": "markdown",
   "id": "9b6002f2",
   "metadata": {},
   "source": [
    "# Multiplication"
   ]
  },
  {
   "cell_type": "code",
   "execution_count": 4,
   "id": "a7f30ff8",
   "metadata": {},
   "outputs": [
    {
     "name": "stdout",
     "output_type": "stream",
     "text": [
      "7*6is42\n"
     ]
    }
   ],
   "source": [
    "a = 7\n",
    "b = 6\n",
    "c = a * b\n",
    "print(str(a) + \"*\" + str(b) + \"is\" + str(c))"
   ]
  },
  {
   "cell_type": "markdown",
   "id": "da74ac87",
   "metadata": {},
   "source": [
    "# Division"
   ]
  },
  {
   "cell_type": "code",
   "execution_count": 5,
   "id": "7b61e29b",
   "metadata": {},
   "outputs": [
    {
     "data": {
      "text/plain": [
       "3.3333333333333335"
      ]
     },
     "execution_count": 5,
     "metadata": {},
     "output_type": "execute_result"
    }
   ],
   "source": [
    "a = 10\n",
    "b = 3\n",
    "c = a/b\n",
    "c"
   ]
  },
  {
   "cell_type": "markdown",
   "id": "8cbecfc7",
   "metadata": {},
   "source": [
    "# Floor Division"
   ]
  },
  {
   "cell_type": "code",
   "execution_count": 7,
   "id": "ffe006c0",
   "metadata": {},
   "outputs": [
    {
     "name": "stdout",
     "output_type": "stream",
     "text": [
      "The qoutient is3\n"
     ]
    }
   ],
   "source": [
    "a = 10\n",
    "b = 3\n",
    "c = a//b\n",
    "print(\"The qoutient is\" + str(c))"
   ]
  },
  {
   "cell_type": "markdown",
   "id": "e6cef221",
   "metadata": {},
   "source": [
    "# Modulo"
   ]
  },
  {
   "cell_type": "code",
   "execution_count": 8,
   "id": "32e5ee27",
   "metadata": {},
   "outputs": [
    {
     "name": "stdout",
     "output_type": "stream",
     "text": [
      "The remainder is1\n"
     ]
    }
   ],
   "source": [
    "a =  10\n",
    "b = 3\n",
    "c = a % b \n",
    "print (\"The remainder is\" + str(c))"
   ]
  },
  {
   "cell_type": "markdown",
   "id": "5c87147c",
   "metadata": {},
   "source": [
    "# Increment"
   ]
  },
  {
   "cell_type": "code",
   "execution_count": 9,
   "id": "5b39bf79",
   "metadata": {},
   "outputs": [
    {
     "name": "stdout",
     "output_type": "stream",
     "text": [
      "6\n"
     ]
    }
   ],
   "source": [
    "x = 5\n",
    "x+=1\n",
    "print(x)"
   ]
  },
  {
   "cell_type": "code",
   "execution_count": 10,
   "id": "f30e713c",
   "metadata": {},
   "outputs": [
    {
     "name": "stdout",
     "output_type": "stream",
     "text": [
      "6\n"
     ]
    }
   ],
   "source": [
    "a = 5\n",
    "a = a + 1\n",
    "print(a)"
   ]
  },
  {
   "cell_type": "markdown",
   "id": "a628c9fe",
   "metadata": {},
   "source": [
    "# Decrement"
   ]
  },
  {
   "cell_type": "code",
   "execution_count": 11,
   "id": "ddb67da0",
   "metadata": {},
   "outputs": [
    {
     "name": "stdout",
     "output_type": "stream",
     "text": [
      "4\n"
     ]
    }
   ],
   "source": [
    "x = 5\n",
    "x-=1\n",
    "print(x)"
   ]
  },
  {
   "cell_type": "code",
   "execution_count": 12,
   "id": "f151d3f3",
   "metadata": {},
   "outputs": [
    {
     "name": "stdout",
     "output_type": "stream",
     "text": [
      "4\n"
     ]
    }
   ],
   "source": [
    "a = 5\n",
    "a = a - 1\n",
    "print(a)"
   ]
  }
 ],
 "metadata": {
  "kernelspec": {
   "display_name": "Python 3",
   "language": "python",
   "name": "python3"
  },
  "language_info": {
   "codemirror_mode": {
    "name": "ipython",
    "version": 3
   },
   "file_extension": ".py",
   "mimetype": "text/x-python",
   "name": "python",
   "nbconvert_exporter": "python",
   "pygments_lexer": "ipython3",
   "version": "3.13.2"
  }
 },
 "nbformat": 4,
 "nbformat_minor": 5
}
