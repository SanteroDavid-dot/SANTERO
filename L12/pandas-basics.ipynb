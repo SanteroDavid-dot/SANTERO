{
 "cells": [
  {
   "cell_type": "markdown",
   "id": "35bc9bd7",
   "metadata": {},
   "source": [
    "# Pandas Basics <hr style=\"border:2.5px solid #126782\"></hr>"
   ]
  },
  {
   "cell_type": "code",
   "execution_count": 85,
   "id": "7c075a24",
   "metadata": {},
   "outputs": [
    {
     "name": "stdout",
     "output_type": "stream",
     "text": [
      "Collecting matplotlib\n",
      "  Using cached matplotlib-3.10.3-cp313-cp313-win_amd64.whl.metadata (11 kB)\n",
      "Collecting contourpy>=1.0.1 (from matplotlib)\n",
      "  Using cached contourpy-1.3.2-cp313-cp313-win_amd64.whl.metadata (5.5 kB)\n",
      "Collecting cycler>=0.10 (from matplotlib)\n",
      "  Using cached cycler-0.12.1-py3-none-any.whl.metadata (3.8 kB)\n",
      "Collecting fonttools>=4.22.0 (from matplotlib)\n",
      "  Using cached fonttools-4.57.0-cp313-cp313-win_amd64.whl.metadata (104 kB)\n",
      "Collecting kiwisolver>=1.3.1 (from matplotlib)\n",
      "  Using cached kiwisolver-1.4.8-cp313-cp313-win_amd64.whl.metadata (6.3 kB)\n",
      "Requirement already satisfied: numpy>=1.23 in c:\\users\\lenovo\\appdata\\local\\programs\\python\\python313\\lib\\site-packages (from matplotlib) (2.2.5)\n",
      "Requirement already satisfied: packaging>=20.0 in c:\\users\\lenovo\\appdata\\roaming\\python\\python313\\site-packages (from matplotlib) (24.2)\n",
      "Collecting pillow>=8 (from matplotlib)\n",
      "  Using cached pillow-11.2.1-cp313-cp313-win_amd64.whl.metadata (9.1 kB)\n",
      "Collecting pyparsing>=2.3.1 (from matplotlib)\n",
      "  Using cached pyparsing-3.2.3-py3-none-any.whl.metadata (5.0 kB)\n",
      "Requirement already satisfied: python-dateutil>=2.7 in c:\\users\\lenovo\\appdata\\roaming\\python\\python313\\site-packages (from matplotlib) (2.9.0.post0)\n",
      "Requirement already satisfied: six>=1.5 in c:\\users\\lenovo\\appdata\\roaming\\python\\python313\\site-packages (from python-dateutil>=2.7->matplotlib) (1.17.0)\n",
      "Downloading matplotlib-3.10.3-cp313-cp313-win_amd64.whl (8.1 MB)\n",
      "   ---------------------------------------- 0.0/8.1 MB ? eta -:--:--\n",
      "   ---------------------------------------- 0.0/8.1 MB ? eta -:--:--\n",
      "   ---------------------------------------- 0.0/8.1 MB ? eta -:--:--\n",
      "   ---------------------------------------- 0.0/8.1 MB ? eta -:--:--\n",
      "   ---------------------------------------- 0.0/8.1 MB ? eta -:--:--\n",
      "   - -------------------------------------- 0.3/8.1 MB ? eta -:--:--\n",
      "   - -------------------------------------- 0.3/8.1 MB ? eta -:--:--\n",
      "   - -------------------------------------- 0.3/8.1 MB ? eta -:--:--\n",
      "   - -------------------------------------- 0.3/8.1 MB ? eta -:--:--\n",
      "   - -------------------------------------- 0.3/8.1 MB ? eta -:--:--\n",
      "   -- ------------------------------------- 0.5/8.1 MB 224.1 kB/s eta 0:00:34\n",
      "   -- ------------------------------------- 0.5/8.1 MB 224.1 kB/s eta 0:00:34\n",
      "   -- ------------------------------------- 0.5/8.1 MB 224.1 kB/s eta 0:00:34\n",
      "   -- ------------------------------------- 0.5/8.1 MB 224.1 kB/s eta 0:00:34\n",
      "   --- ------------------------------------ 0.8/8.1 MB 250.9 kB/s eta 0:00:30\n",
      "   --- ------------------------------------ 0.8/8.1 MB 250.9 kB/s eta 0:00:30\n",
      "   --- ------------------------------------ 0.8/8.1 MB 250.9 kB/s eta 0:00:30\n",
      "   --- ------------------------------------ 0.8/8.1 MB 250.9 kB/s eta 0:00:30\n",
      "   --- ------------------------------------ 0.8/8.1 MB 250.9 kB/s eta 0:00:30\n",
      "   --- ------------------------------------ 0.8/8.1 MB 250.9 kB/s eta 0:00:30\n",
      "   --- ------------------------------------ 0.8/8.1 MB 250.9 kB/s eta 0:00:30\n",
      "   --- ------------------------------------ 0.8/8.1 MB 250.9 kB/s eta 0:00:30\n",
      "   ----- ---------------------------------- 1.0/8.1 MB 197.2 kB/s eta 0:00:36\n",
      "   ----- ---------------------------------- 1.0/8.1 MB 197.2 kB/s eta 0:00:36\n",
      "   ----- ---------------------------------- 1.0/8.1 MB 197.2 kB/s eta 0:00:36\n",
      "   ----- ---------------------------------- 1.0/8.1 MB 197.2 kB/s eta 0:00:36\n",
      "   ------ --------------------------------- 1.3/8.1 MB 212.7 kB/s eta 0:00:32\n",
      "   ------ --------------------------------- 1.3/8.1 MB 212.7 kB/s eta 0:00:32\n",
      "   ------ --------------------------------- 1.3/8.1 MB 212.7 kB/s eta 0:00:32\n",
      "   ------- -------------------------------- 1.6/8.1 MB 236.0 kB/s eta 0:00:28\n",
      "   ------- -------------------------------- 1.6/8.1 MB 236.0 kB/s eta 0:00:28\n",
      "   ------- -------------------------------- 1.6/8.1 MB 236.0 kB/s eta 0:00:28\n",
      "   --------- ------------------------------ 1.8/8.1 MB 250.7 kB/s eta 0:00:25\n",
      "   --------- ------------------------------ 1.8/8.1 MB 250.7 kB/s eta 0:00:25\n",
      "   --------- ------------------------------ 1.8/8.1 MB 250.7 kB/s eta 0:00:25\n",
      "   ---------- ----------------------------- 2.1/8.1 MB 262.3 kB/s eta 0:00:23\n",
      "   ---------- ----------------------------- 2.1/8.1 MB 262.3 kB/s eta 0:00:23\n",
      "   ---------- ----------------------------- 2.1/8.1 MB 262.3 kB/s eta 0:00:23\n",
      "   ---------- ----------------------------- 2.1/8.1 MB 262.3 kB/s eta 0:00:23\n",
      "   ----------- ---------------------------- 2.4/8.1 MB 268.0 kB/s eta 0:00:22\n",
      "   ----------- ---------------------------- 2.4/8.1 MB 268.0 kB/s eta 0:00:22\n",
      "   ----------- ---------------------------- 2.4/8.1 MB 268.0 kB/s eta 0:00:22\n",
      "   ----------- ---------------------------- 2.4/8.1 MB 268.0 kB/s eta 0:00:22\n",
      "   ------------ --------------------------- 2.6/8.1 MB 269.8 kB/s eta 0:00:21\n",
      "   ------------ --------------------------- 2.6/8.1 MB 269.8 kB/s eta 0:00:21\n",
      "   ------------ --------------------------- 2.6/8.1 MB 269.8 kB/s eta 0:00:21\n",
      "   ------------ --------------------------- 2.6/8.1 MB 269.8 kB/s eta 0:00:21\n",
      "   ------------ --------------------------- 2.6/8.1 MB 269.8 kB/s eta 0:00:21\n",
      "   ------------ --------------------------- 2.6/8.1 MB 269.8 kB/s eta 0:00:21\n",
      "   -------------- ------------------------- 2.9/8.1 MB 264.8 kB/s eta 0:00:20\n",
      "   -------------- ------------------------- 2.9/8.1 MB 264.8 kB/s eta 0:00:20\n",
      "   -------------- ------------------------- 2.9/8.1 MB 264.8 kB/s eta 0:00:20\n",
      "   -------------- ------------------------- 2.9/8.1 MB 264.8 kB/s eta 0:00:20\n",
      "   -------------- ------------------------- 2.9/8.1 MB 264.8 kB/s eta 0:00:20\n",
      "   -------------- ------------------------- 2.9/8.1 MB 264.8 kB/s eta 0:00:20\n",
      "   -------------- ------------------------- 2.9/8.1 MB 264.8 kB/s eta 0:00:20\n",
      "   -------------- ------------------------- 2.9/8.1 MB 264.8 kB/s eta 0:00:20\n",
      "   -------------- ------------------------- 2.9/8.1 MB 264.8 kB/s eta 0:00:20\n",
      "   --------------- ------------------------ 3.1/8.1 MB 242.3 kB/s eta 0:00:21\n",
      "   --------------- ------------------------ 3.1/8.1 MB 242.3 kB/s eta 0:00:21\n",
      "   --------------- ------------------------ 3.1/8.1 MB 242.3 kB/s eta 0:00:21\n",
      "   --------------- ------------------------ 3.1/8.1 MB 242.3 kB/s eta 0:00:21\n",
      "   --------------- ------------------------ 3.1/8.1 MB 242.3 kB/s eta 0:00:21\n",
      "   --------------- ------------------------ 3.1/8.1 MB 242.3 kB/s eta 0:00:21\n",
      "   ---------------- ----------------------- 3.4/8.1 MB 237.6 kB/s eta 0:00:20\n",
      "   ---------------- ----------------------- 3.4/8.1 MB 237.6 kB/s eta 0:00:20\n",
      "   ---------------- ----------------------- 3.4/8.1 MB 237.6 kB/s eta 0:00:20\n",
      "   ---------------- ----------------------- 3.4/8.1 MB 237.6 kB/s eta 0:00:20\n",
      "   ---------------- ----------------------- 3.4/8.1 MB 237.6 kB/s eta 0:00:20\n",
      "   ---------------- ----------------------- 3.4/8.1 MB 237.6 kB/s eta 0:00:20\n",
      "   ---------------- ----------------------- 3.4/8.1 MB 237.6 kB/s eta 0:00:20\n",
      "   ---------------- ----------------------- 3.4/8.1 MB 237.6 kB/s eta 0:00:20\n",
      "   ---------------- ----------------------- 3.4/8.1 MB 237.6 kB/s eta 0:00:20\n",
      "   ---------------- ----------------------- 3.4/8.1 MB 237.6 kB/s eta 0:00:20\n",
      "   ---------------- ----------------------- 3.4/8.1 MB 237.6 kB/s eta 0:00:20\n",
      "   ---------------- ----------------------- 3.4/8.1 MB 237.6 kB/s eta 0:00:20\n",
      "   ---------------- ----------------------- 3.4/8.1 MB 237.6 kB/s eta 0:00:20\n",
      "   ---------------- ----------------------- 3.4/8.1 MB 237.6 kB/s eta 0:00:20\n",
      "   ---------------- ----------------------- 3.4/8.1 MB 237.6 kB/s eta 0:00:20\n",
      "   ---------------- ----------------------- 3.4/8.1 MB 237.6 kB/s eta 0:00:20\n",
      "   ---------------- ----------------------- 3.4/8.1 MB 237.6 kB/s eta 0:00:20\n",
      "   ---------------- ----------------------- 3.4/8.1 MB 237.6 kB/s eta 0:00:20\n",
      "   ---------------- ----------------------- 3.4/8.1 MB 237.6 kB/s eta 0:00:20\n",
      "   ---------------- ----------------------- 3.4/8.1 MB 237.6 kB/s eta 0:00:20\n",
      "   ---------------- ----------------------- 3.4/8.1 MB 237.6 kB/s eta 0:00:20\n",
      "   ---------------- ----------------------- 3.4/8.1 MB 237.6 kB/s eta 0:00:20\n",
      "   ---------------- ----------------------- 3.4/8.1 MB 237.6 kB/s eta 0:00:20\n",
      "   ---------------- ----------------------- 3.4/8.1 MB 237.6 kB/s eta 0:00:20\n",
      "   ---------------- ----------------------- 3.4/8.1 MB 237.6 kB/s eta 0:00:20\n",
      "   ---------------- ----------------------- 3.4/8.1 MB 237.6 kB/s eta 0:00:20\n",
      "   ---------------- ----------------------- 3.4/8.1 MB 237.6 kB/s eta 0:00:20\n",
      "   ---------------- ----------------------- 3.4/8.1 MB 237.6 kB/s eta 0:00:20\n",
      "   ---------------- ----------------------- 3.4/8.1 MB 237.6 kB/s eta 0:00:20\n",
      "   ---------------- ----------------------- 3.4/8.1 MB 237.6 kB/s eta 0:00:20\n",
      "   ---------------- ----------------------- 3.4/8.1 MB 237.6 kB/s eta 0:00:20\n",
      "   ---------------- ----------------------- 3.4/8.1 MB 237.6 kB/s eta 0:00:20\n",
      "   ---------------- ----------------------- 3.4/8.1 MB 237.6 kB/s eta 0:00:20\n",
      "   ---------------- ----------------------- 3.4/8.1 MB 237.6 kB/s eta 0:00:20\n",
      "   ---------------- ----------------------- 3.4/8.1 MB 237.6 kB/s eta 0:00:20\n",
      "   ---------------- ----------------------- 3.4/8.1 MB 237.6 kB/s eta 0:00:20\n",
      "   ---------------- ----------------------- 3.4/8.1 MB 237.6 kB/s eta 0:00:20\n",
      "   ---------------- ----------------------- 3.4/8.1 MB 237.6 kB/s eta 0:00:20\n",
      "   ---------------- ----------------------- 3.4/8.1 MB 237.6 kB/s eta 0:00:20\n",
      "   ---------------- ----------------------- 3.4/8.1 MB 237.6 kB/s eta 0:00:20\n",
      "   ---------------- ----------------------- 3.4/8.1 MB 237.6 kB/s eta 0:00:20\n",
      "   ---------------- ----------------------- 3.4/8.1 MB 237.6 kB/s eta 0:00:20\n",
      "   ---------------- ----------------------- 3.4/8.1 MB 237.6 kB/s eta 0:00:20\n",
      "   ---------------- ----------------------- 3.4/8.1 MB 237.6 kB/s eta 0:00:20\n",
      "   ---------------- ----------------------- 3.4/8.1 MB 237.6 kB/s eta 0:00:20\n",
      "   ---------------- ----------------------- 3.4/8.1 MB 237.6 kB/s eta 0:00:20\n",
      "   ---------------- ----------------------- 3.4/8.1 MB 237.6 kB/s eta 0:00:20\n",
      "   ---------------- ----------------------- 3.4/8.1 MB 237.6 kB/s eta 0:00:20\n",
      "   ---------------- ----------------------- 3.4/8.1 MB 237.6 kB/s eta 0:00:20\n",
      "   ---------------- ----------------------- 3.4/8.1 MB 237.6 kB/s eta 0:00:20\n",
      "   ---------------- ----------------------- 3.4/8.1 MB 237.6 kB/s eta 0:00:20\n",
      "   ------------------ --------------------- 3.7/8.1 MB 140.4 kB/s eta 0:00:32\n",
      "   ------------------ --------------------- 3.7/8.1 MB 140.4 kB/s eta 0:00:32\n",
      "   ------------------ --------------------- 3.7/8.1 MB 140.4 kB/s eta 0:00:32\n",
      "   ------------------ --------------------- 3.7/8.1 MB 140.4 kB/s eta 0:00:32\n",
      "   ------------------ --------------------- 3.7/8.1 MB 140.4 kB/s eta 0:00:32\n",
      "   ------------------ --------------------- 3.7/8.1 MB 140.4 kB/s eta 0:00:32\n",
      "   ------------------ --------------------- 3.7/8.1 MB 140.4 kB/s eta 0:00:32\n",
      "   ------------------ --------------------- 3.7/8.1 MB 140.4 kB/s eta 0:00:32\n",
      "   ------------------- -------------------- 3.9/8.1 MB 141.5 kB/s eta 0:00:30\n",
      "   ------------------- -------------------- 3.9/8.1 MB 141.5 kB/s eta 0:00:30\n",
      "   ------------------- -------------------- 3.9/8.1 MB 141.5 kB/s eta 0:00:30\n",
      "   ------------------- -------------------- 3.9/8.1 MB 141.5 kB/s eta 0:00:30\n",
      "   ------------------- -------------------- 3.9/8.1 MB 141.5 kB/s eta 0:00:30\n",
      "   ------------------- -------------------- 3.9/8.1 MB 141.5 kB/s eta 0:00:30\n",
      "   ------------------- -------------------- 3.9/8.1 MB 141.5 kB/s eta 0:00:30\n",
      "   -------------------- ------------------- 4.2/8.1 MB 143.7 kB/s eta 0:00:27\n",
      "   -------------------- ------------------- 4.2/8.1 MB 143.7 kB/s eta 0:00:27\n",
      "   -------------------- ------------------- 4.2/8.1 MB 143.7 kB/s eta 0:00:27\n",
      "   -------------------- ------------------- 4.2/8.1 MB 143.7 kB/s eta 0:00:27\n",
      "   -------------------- ------------------- 4.2/8.1 MB 143.7 kB/s eta 0:00:27\n",
      "   -------------------- ------------------- 4.2/8.1 MB 143.7 kB/s eta 0:00:27\n",
      "   -------------------- ------------------- 4.2/8.1 MB 143.7 kB/s eta 0:00:27\n",
      "   -------------------- ------------------- 4.2/8.1 MB 143.7 kB/s eta 0:00:27\n",
      "   -------------------- ------------------- 4.2/8.1 MB 143.7 kB/s eta 0:00:27\n",
      "   -------------------- ------------------- 4.2/8.1 MB 143.7 kB/s eta 0:00:27\n",
      "   -------------------- ------------------- 4.2/8.1 MB 143.7 kB/s eta 0:00:27\n",
      "   -------------------- ------------------- 4.2/8.1 MB 143.7 kB/s eta 0:00:27\n",
      "   -------------------- ------------------- 4.2/8.1 MB 143.7 kB/s eta 0:00:27\n",
      "   ---------------------- ----------------- 4.5/8.1 MB 135.5 kB/s eta 0:00:27\n",
      "   ---------------------- ----------------- 4.5/8.1 MB 135.5 kB/s eta 0:00:27\n",
      "   ---------------------- ----------------- 4.5/8.1 MB 135.5 kB/s eta 0:00:27\n",
      "   ---------------------- ----------------- 4.5/8.1 MB 135.5 kB/s eta 0:00:27\n",
      "   ----------------------- ---------------- 4.7/8.1 MB 140.3 kB/s eta 0:00:24\n",
      "   ----------------------- ---------------- 4.7/8.1 MB 140.3 kB/s eta 0:00:24\n",
      "   ----------------------- ---------------- 4.7/8.1 MB 140.3 kB/s eta 0:00:24\n",
      "   ----------------------- ---------------- 4.7/8.1 MB 140.3 kB/s eta 0:00:24\n",
      "   ------------------------ --------------- 5.0/8.1 MB 139.1 kB/s eta 0:00:23\n",
      "   ------------------------ --------------- 5.0/8.1 MB 139.1 kB/s eta 0:00:23\n",
      "   ------------------------ --------------- 5.0/8.1 MB 139.1 kB/s eta 0:00:23\n",
      "   ------------------------ --------------- 5.0/8.1 MB 139.1 kB/s eta 0:00:23\n",
      "   ------------------------ --------------- 5.0/8.1 MB 139.1 kB/s eta 0:00:23\n",
      "   ------------------------- -------------- 5.2/8.1 MB 142.5 kB/s eta 0:00:20\n",
      "   ------------------------- -------------- 5.2/8.1 MB 142.5 kB/s eta 0:00:20\n",
      "   ------------------------- -------------- 5.2/8.1 MB 142.5 kB/s eta 0:00:20\n",
      "   --------------------------- ------------ 5.5/8.1 MB 144.3 kB/s eta 0:00:18\n",
      "   --------------------------- ------------ 5.5/8.1 MB 144.3 kB/s eta 0:00:18\n",
      "   --------------------------- ------------ 5.5/8.1 MB 144.3 kB/s eta 0:00:18\n",
      "   ---------------------------- ----------- 5.8/8.1 MB 149.6 kB/s eta 0:00:16\n",
      "   ----------------------------- ---------- 6.0/8.1 MB 151.0 kB/s eta 0:00:14\n",
      "   ----------------------------- ---------- 6.0/8.1 MB 151.0 kB/s eta 0:00:14\n",
      "   ------------------------------- -------- 6.3/8.1 MB 157.8 kB/s eta 0:00:12\n",
      "   ------------------------------- -------- 6.3/8.1 MB 157.8 kB/s eta 0:00:12\n",
      "   -------------------------------- ------- 6.6/8.1 MB 159.2 kB/s eta 0:00:10\n",
      "   --------------------------------- ------ 6.8/8.1 MB 167.1 kB/s eta 0:00:08\n",
      "   --------------------------------- ------ 6.8/8.1 MB 167.1 kB/s eta 0:00:08\n",
      "   --------------------------------- ------ 6.8/8.1 MB 167.1 kB/s eta 0:00:08\n",
      "   --------------------------------- ------ 6.8/8.1 MB 167.1 kB/s eta 0:00:08\n",
      "   ----------------------------------- ---- 7.1/8.1 MB 166.5 kB/s eta 0:00:06\n",
      "   ----------------------------------- ---- 7.1/8.1 MB 166.5 kB/s eta 0:00:06\n",
      "   ------------------------------------ --- 7.3/8.1 MB 168.5 kB/s eta 0:00:05\n",
      "   ------------------------------------ --- 7.3/8.1 MB 168.5 kB/s eta 0:00:05\n",
      "   ------------------------------------- -- 7.6/8.1 MB 171.2 kB/s eta 0:00:03\n",
      "   ------------------------------------- -- 7.6/8.1 MB 171.2 kB/s eta 0:00:03\n",
      "   -------------------------------------- - 7.9/8.1 MB 177.8 kB/s eta 0:00:02\n",
      "   ---------------------------------------- 8.1/8.1 MB 183.1 kB/s eta 0:00:00\n",
      "Downloading contourpy-1.3.2-cp313-cp313-win_amd64.whl (223 kB)\n",
      "Downloading cycler-0.12.1-py3-none-any.whl (8.3 kB)\n",
      "Downloading fonttools-4.57.0-cp313-cp313-win_amd64.whl (2.2 MB)\n",
      "   ---------------------------------------- 0.0/2.2 MB ? eta -:--:--\n",
      "   ---------------------------------------- 0.0/2.2 MB ? eta -:--:--\n",
      "   ---- ----------------------------------- 0.3/2.2 MB ? eta -:--:--\n",
      "   ---- ----------------------------------- 0.3/2.2 MB ? eta -:--:--\n",
      "   --------- ------------------------------ 0.5/2.2 MB 880.7 kB/s eta 0:00:02\n",
      "   --------- ------------------------------ 0.5/2.2 MB 880.7 kB/s eta 0:00:02\n",
      "   -------------- ------------------------- 0.8/2.2 MB 629.3 kB/s eta 0:00:03\n",
      "   -------------- ------------------------- 0.8/2.2 MB 629.3 kB/s eta 0:00:03\n",
      "   -------------- ------------------------- 0.8/2.2 MB 629.3 kB/s eta 0:00:03\n",
      "   ------------------- -------------------- 1.0/2.2 MB 512.7 kB/s eta 0:00:03\n",
      "   ----------------------- ---------------- 1.3/2.2 MB 594.0 kB/s eta 0:00:02\n",
      "   ----------------------- ---------------- 1.3/2.2 MB 594.0 kB/s eta 0:00:02\n",
      "   ----------------------- ---------------- 1.3/2.2 MB 594.0 kB/s eta 0:00:02\n",
      "   ---------------------------- ----------- 1.6/2.2 MB 576.3 kB/s eta 0:00:02\n",
      "   ---------------------------- ----------- 1.6/2.2 MB 576.3 kB/s eta 0:00:02\n",
      "   ---------------------------- ----------- 1.6/2.2 MB 576.3 kB/s eta 0:00:02\n",
      "   --------------------------------- ------ 1.8/2.2 MB 544.7 kB/s eta 0:00:01\n",
      "   -------------------------------------- - 2.1/2.2 MB 556.6 kB/s eta 0:00:01\n",
      "   ---------------------------------------- 2.2/2.2 MB 549.7 kB/s eta 0:00:00\n",
      "Downloading kiwisolver-1.4.8-cp313-cp313-win_amd64.whl (71 kB)\n",
      "Downloading pillow-11.2.1-cp313-cp313-win_amd64.whl (2.7 MB)\n",
      "   ---------------------------------------- 0.0/2.7 MB ? eta -:--:--\n",
      "   ---------------------------------------- 0.0/2.7 MB ? eta -:--:--\n",
      "   ---------------------------------------- 0.0/2.7 MB ? eta -:--:--\n",
      "   --- ------------------------------------ 0.3/2.7 MB ? eta -:--:--\n",
      "   ------- -------------------------------- 0.5/2.7 MB 1.3 MB/s eta 0:00:02\n",
      "   ------- -------------------------------- 0.5/2.7 MB 1.3 MB/s eta 0:00:02\n",
      "   ----------- ---------------------------- 0.8/2.7 MB 660.2 kB/s eta 0:00:03\n",
      "   ----------- ---------------------------- 0.8/2.7 MB 660.2 kB/s eta 0:00:03\n",
      "   --------------- ------------------------ 1.0/2.7 MB 706.7 kB/s eta 0:00:03\n",
      "   ------------------- -------------------- 1.3/2.7 MB 751.8 kB/s eta 0:00:02\n",
      "   ----------------------- ---------------- 1.6/2.7 MB 815.2 kB/s eta 0:00:02\n",
      "   ----------------------- ---------------- 1.6/2.7 MB 815.2 kB/s eta 0:00:02\n",
      "   ----------------------- ---------------- 1.6/2.7 MB 815.2 kB/s eta 0:00:02\n",
      "   ----------------------- ---------------- 1.6/2.7 MB 815.2 kB/s eta 0:00:02\n",
      "   ----------------------- ---------------- 1.6/2.7 MB 815.2 kB/s eta 0:00:02\n",
      "   ----------------------- ---------------- 1.6/2.7 MB 815.2 kB/s eta 0:00:02\n",
      "   ----------------------- ---------------- 1.6/2.7 MB 815.2 kB/s eta 0:00:02\n",
      "   ----------------------- ---------------- 1.6/2.7 MB 815.2 kB/s eta 0:00:02\n",
      "   ----------------------- ---------------- 1.6/2.7 MB 815.2 kB/s eta 0:00:02\n",
      "   --------------------------- ------------ 1.8/2.7 MB 454.5 kB/s eta 0:00:02\n",
      "   --------------------------- ------------ 1.8/2.7 MB 454.5 kB/s eta 0:00:02\n",
      "   ------------------------------- -------- 2.1/2.7 MB 461.8 kB/s eta 0:00:02\n",
      "   ------------------------------- -------- 2.1/2.7 MB 461.8 kB/s eta 0:00:02\n",
      "   ----------------------------------- ---- 2.4/2.7 MB 492.0 kB/s eta 0:00:01\n",
      "   ---------------------------------------  2.6/2.7 MB 527.3 kB/s eta 0:00:01\n",
      "   ---------------------------------------  2.6/2.7 MB 527.3 kB/s eta 0:00:01\n",
      "   ---------------------------------------- 2.7/2.7 MB 489.9 kB/s eta 0:00:00\n",
      "Downloading pyparsing-3.2.3-py3-none-any.whl (111 kB)\n",
      "Installing collected packages: pyparsing, pillow, kiwisolver, fonttools, cycler, contourpy, matplotlib\n",
      "Successfully installed contourpy-1.3.2 cycler-0.12.1 fonttools-4.57.0 kiwisolver-1.4.8 matplotlib-3.10.3 pillow-11.2.1 pyparsing-3.2.3\n",
      "Note: you may need to restart the kernel to use updated packages.\n"
     ]
    },
    {
     "name": "stderr",
     "output_type": "stream",
     "text": [
      "  WARNING: The scripts fonttools.exe, pyftmerge.exe, pyftsubset.exe and ttx.exe are installed in 'c:\\Users\\LENOVO\\AppData\\Local\\Programs\\Python\\Python313\\Scripts' which is not on PATH.\n",
      "  Consider adding this directory to PATH or, if you prefer to suppress this warning, use --no-warn-script-location.\n",
      "\n",
      "[notice] A new release of pip is available: 24.3.1 -> 25.1.1\n",
      "[notice] To update, run: python.exe -m pip install --upgrade pip\n"
     ]
    }
   ],
   "source": [
    "%pip install matplotlib --upgrade"
   ]
  },
  {
   "cell_type": "code",
   "execution_count": 86,
   "id": "e6056ce4",
   "metadata": {},
   "outputs": [
    {
     "name": "stdout",
     "output_type": "stream",
     "text": [
      "Requirement already satisfied: pandas in c:\\users\\lenovo\\appdata\\local\\programs\\python\\python313\\lib\\site-packages (2.2.3)\n",
      "Requirement already satisfied: numpy>=1.26.0 in c:\\users\\lenovo\\appdata\\local\\programs\\python\\python313\\lib\\site-packages (from pandas) (2.2.5)\n",
      "Requirement already satisfied: python-dateutil>=2.8.2 in c:\\users\\lenovo\\appdata\\roaming\\python\\python313\\site-packages (from pandas) (2.9.0.post0)\n",
      "Requirement already satisfied: pytz>=2020.1 in c:\\users\\lenovo\\appdata\\local\\programs\\python\\python313\\lib\\site-packages (from pandas) (2025.2)\n",
      "Requirement already satisfied: tzdata>=2022.7 in c:\\users\\lenovo\\appdata\\local\\programs\\python\\python313\\lib\\site-packages (from pandas) (2025.2)\n",
      "Requirement already satisfied: six>=1.5 in c:\\users\\lenovo\\appdata\\roaming\\python\\python313\\site-packages (from python-dateutil>=2.8.2->pandas) (1.17.0)\n",
      "Note: you may need to restart the kernel to use updated packages.\n"
     ]
    },
    {
     "name": "stderr",
     "output_type": "stream",
     "text": [
      "\n",
      "[notice] A new release of pip is available: 24.3.1 -> 25.1.1\n",
      "[notice] To update, run: python.exe -m pip install --upgrade pip\n"
     ]
    }
   ],
   "source": [
    "%pip install pandas --upgrade"
   ]
  },
  {
   "cell_type": "code",
   "execution_count": 102,
   "id": "d78565e6",
   "metadata": {},
   "outputs": [],
   "source": [
    "import pandas as pd\n",
    "import matplotlib.pyplot as plt\n",
    "from scipy import stats\n"
   ]
  },
  {
   "cell_type": "code",
   "execution_count": 88,
   "id": "7efd5fab",
   "metadata": {},
   "outputs": [],
   "source": [
    "data  = { \"name\": [\"Henry\",\"Owen\", \"Ada\"],\n",
    "         \"age\": [22,35,58],\n",
    "         \"sex\": [\"M\",\"M\",\"F\"] }"
   ]
  },
  {
   "cell_type": "code",
   "execution_count": 89,
   "id": "ffed4472",
   "metadata": {},
   "outputs": [
    {
     "data": {
      "text/html": [
       "<div>\n",
       "<style scoped>\n",
       "    .dataframe tbody tr th:only-of-type {\n",
       "        vertical-align: middle;\n",
       "    }\n",
       "\n",
       "    .dataframe tbody tr th {\n",
       "        vertical-align: top;\n",
       "    }\n",
       "\n",
       "    .dataframe thead th {\n",
       "        text-align: right;\n",
       "    }\n",
       "</style>\n",
       "<table border=\"1\" class=\"dataframe\">\n",
       "  <thead>\n",
       "    <tr style=\"text-align: right;\">\n",
       "      <th></th>\n",
       "      <th>name</th>\n",
       "      <th>age</th>\n",
       "      <th>sex</th>\n",
       "    </tr>\n",
       "  </thead>\n",
       "  <tbody>\n",
       "    <tr>\n",
       "      <th>0</th>\n",
       "      <td>Henry</td>\n",
       "      <td>22</td>\n",
       "      <td>M</td>\n",
       "    </tr>\n",
       "    <tr>\n",
       "      <th>1</th>\n",
       "      <td>Owen</td>\n",
       "      <td>35</td>\n",
       "      <td>M</td>\n",
       "    </tr>\n",
       "    <tr>\n",
       "      <th>2</th>\n",
       "      <td>Ada</td>\n",
       "      <td>58</td>\n",
       "      <td>F</td>\n",
       "    </tr>\n",
       "  </tbody>\n",
       "</table>\n",
       "</div>"
      ],
      "text/plain": [
       "    name  age sex\n",
       "0  Henry   22   M\n",
       "1   Owen   35   M\n",
       "2    Ada   58   F"
      ]
     },
     "execution_count": 89,
     "metadata": {},
     "output_type": "execute_result"
    }
   ],
   "source": [
    "df = pd.DataFrame(data)\n",
    "df"
   ]
  },
  {
   "cell_type": "code",
   "execution_count": 90,
   "id": "833a6058",
   "metadata": {},
   "outputs": [
    {
     "data": {
      "text/plain": [
       "<bound method DataFrame.corr of     name  age sex\n",
       "0  Henry   22   M\n",
       "1   Owen   35   M\n",
       "2    Ada   58   F>"
      ]
     },
     "execution_count": 90,
     "metadata": {},
     "output_type": "execute_result"
    }
   ],
   "source": [
    "df.corr"
   ]
  },
  {
   "cell_type": "code",
   "execution_count": 91,
   "id": "4ac894ec",
   "metadata": {},
   "outputs": [
    {
     "data": {
      "text/plain": [
       "0    Henry\n",
       "1     Owen\n",
       "2      Ada\n",
       "Name: name, dtype: object"
      ]
     },
     "execution_count": 91,
     "metadata": {},
     "output_type": "execute_result"
    }
   ],
   "source": [
    "df[\"name\"]"
   ]
  },
  {
   "cell_type": "code",
   "execution_count": 92,
   "id": "39a7ac2d",
   "metadata": {},
   "outputs": [
    {
     "data": {
      "text/plain": [
       "np.float64(38.333333333333336)"
      ]
     },
     "execution_count": 92,
     "metadata": {},
     "output_type": "execute_result"
    }
   ],
   "source": [
    "df['age'].mean()"
   ]
  },
  {
   "cell_type": "code",
   "execution_count": 93,
   "id": "2a532785",
   "metadata": {},
   "outputs": [
    {
     "data": {
      "text/plain": [
       "np.int64(115)"
      ]
     },
     "execution_count": 93,
     "metadata": {},
     "output_type": "execute_result"
    }
   ],
   "source": [
    "df['age'].sum()"
   ]
  },
  {
   "cell_type": "code",
   "execution_count": 94,
   "id": "ad339b29",
   "metadata": {},
   "outputs": [
    {
     "data": {
      "text/plain": [
       "0    M\n",
       "1    M\n",
       "2    F\n",
       "Name: sex, dtype: object"
      ]
     },
     "execution_count": 94,
     "metadata": {},
     "output_type": "execute_result"
    }
   ],
   "source": [
    "df[\"sex\"]"
   ]
  },
  {
   "cell_type": "markdown",
   "id": "400ecc8e",
   "metadata": {},
   "source": [
    " \n",
    "# Correlation"
   ]
  },
  {
   "cell_type": "code",
   "execution_count": 113,
   "id": "56671844",
   "metadata": {},
   "outputs": [
    {
     "data": {
      "text/plain": [
       "{'current': [2.0, 3.5, 1.8, 4.2, 2.7], 'power': [100, 200, 90, 210, 110]}"
      ]
     },
     "execution_count": 113,
     "metadata": {},
     "output_type": "execute_result"
    }
   ],
   "source": [
    "measurement = { \"current\":[2.0,3.5,1.8,4.2,2.7],\"power\":[100,200,90,210,110] }\n",
    "\n",
    "measurement "
   ]
  },
  {
   "cell_type": "code",
   "execution_count": 114,
   "id": "b04c961b",
   "metadata": {},
   "outputs": [
    {
     "data": {
      "text/html": [
       "<div>\n",
       "<style scoped>\n",
       "    .dataframe tbody tr th:only-of-type {\n",
       "        vertical-align: middle;\n",
       "    }\n",
       "\n",
       "    .dataframe tbody tr th {\n",
       "        vertical-align: top;\n",
       "    }\n",
       "\n",
       "    .dataframe thead th {\n",
       "        text-align: right;\n",
       "    }\n",
       "</style>\n",
       "<table border=\"1\" class=\"dataframe\">\n",
       "  <thead>\n",
       "    <tr style=\"text-align: right;\">\n",
       "      <th></th>\n",
       "      <th>current</th>\n",
       "      <th>power</th>\n",
       "    </tr>\n",
       "  </thead>\n",
       "  <tbody>\n",
       "    <tr>\n",
       "      <th>0</th>\n",
       "      <td>2.0</td>\n",
       "      <td>100</td>\n",
       "    </tr>\n",
       "    <tr>\n",
       "      <th>1</th>\n",
       "      <td>3.5</td>\n",
       "      <td>200</td>\n",
       "    </tr>\n",
       "    <tr>\n",
       "      <th>2</th>\n",
       "      <td>1.8</td>\n",
       "      <td>90</td>\n",
       "    </tr>\n",
       "    <tr>\n",
       "      <th>3</th>\n",
       "      <td>4.2</td>\n",
       "      <td>210</td>\n",
       "    </tr>\n",
       "    <tr>\n",
       "      <th>4</th>\n",
       "      <td>2.7</td>\n",
       "      <td>110</td>\n",
       "    </tr>\n",
       "  </tbody>\n",
       "</table>\n",
       "</div>"
      ],
      "text/plain": [
       "   current  power\n",
       "0      2.0    100\n",
       "1      3.5    200\n",
       "2      1.8     90\n",
       "3      4.2    210\n",
       "4      2.7    110"
      ]
     },
     "execution_count": 114,
     "metadata": {},
     "output_type": "execute_result"
    }
   ],
   "source": [
    "device = pd.DataFrame(measurement)\n",
    "device"
   ]
  },
  {
   "cell_type": "code",
   "execution_count": 115,
   "id": "2112cfc4",
   "metadata": {},
   "outputs": [
    {
     "data": {
      "text/html": [
       "<div>\n",
       "<style scoped>\n",
       "    .dataframe tbody tr th:only-of-type {\n",
       "        vertical-align: middle;\n",
       "    }\n",
       "\n",
       "    .dataframe tbody tr th {\n",
       "        vertical-align: top;\n",
       "    }\n",
       "\n",
       "    .dataframe thead th {\n",
       "        text-align: right;\n",
       "    }\n",
       "</style>\n",
       "<table border=\"1\" class=\"dataframe\">\n",
       "  <thead>\n",
       "    <tr style=\"text-align: right;\">\n",
       "      <th></th>\n",
       "      <th>current</th>\n",
       "      <th>power</th>\n",
       "    </tr>\n",
       "  </thead>\n",
       "  <tbody>\n",
       "    <tr>\n",
       "      <th>current</th>\n",
       "      <td>1.023</td>\n",
       "      <td>56.15</td>\n",
       "    </tr>\n",
       "    <tr>\n",
       "      <th>power</th>\n",
       "      <td>56.150</td>\n",
       "      <td>3370.00</td>\n",
       "    </tr>\n",
       "  </tbody>\n",
       "</table>\n",
       "</div>"
      ],
      "text/plain": [
       "         current    power\n",
       "current    1.023    56.15\n",
       "power     56.150  3370.00"
      ]
     },
     "execution_count": 115,
     "metadata": {},
     "output_type": "execute_result"
    }
   ],
   "source": [
    "# Finding the covariance between current and power     \n",
    "device.cov()"
   ]
  },
  {
   "cell_type": "code",
   "execution_count": 116,
   "id": "38f955e8",
   "metadata": {},
   "outputs": [
    {
     "data": {
      "text/html": [
       "<div>\n",
       "<style scoped>\n",
       "    .dataframe tbody tr th:only-of-type {\n",
       "        vertical-align: middle;\n",
       "    }\n",
       "\n",
       "    .dataframe tbody tr th {\n",
       "        vertical-align: top;\n",
       "    }\n",
       "\n",
       "    .dataframe thead th {\n",
       "        text-align: right;\n",
       "    }\n",
       "</style>\n",
       "<table border=\"1\" class=\"dataframe\">\n",
       "  <thead>\n",
       "    <tr style=\"text-align: right;\">\n",
       "      <th></th>\n",
       "      <th>current</th>\n",
       "      <th>power</th>\n",
       "    </tr>\n",
       "  </thead>\n",
       "  <tbody>\n",
       "    <tr>\n",
       "      <th>current</th>\n",
       "      <td>1.000000</td>\n",
       "      <td>0.956306</td>\n",
       "    </tr>\n",
       "    <tr>\n",
       "      <th>power</th>\n",
       "      <td>0.956306</td>\n",
       "      <td>1.000000</td>\n",
       "    </tr>\n",
       "  </tbody>\n",
       "</table>\n",
       "</div>"
      ],
      "text/plain": [
       "          current     power\n",
       "current  1.000000  0.956306\n",
       "power    0.956306  1.000000"
      ]
     },
     "execution_count": 116,
     "metadata": {},
     "output_type": "execute_result"
    }
   ],
   "source": [
    "# Finding the correlation between current and power\n",
    "device.corr()"
   ]
  },
  {
   "cell_type": "code",
   "execution_count": 118,
   "id": "dddda5a8",
   "metadata": {},
   "outputs": [
    {
     "data": {
      "text/html": [
       "<div>\n",
       "<style scoped>\n",
       "    .dataframe tbody tr th:only-of-type {\n",
       "        vertical-align: middle;\n",
       "    }\n",
       "\n",
       "    .dataframe tbody tr th {\n",
       "        vertical-align: top;\n",
       "    }\n",
       "\n",
       "    .dataframe thead th {\n",
       "        text-align: right;\n",
       "    }\n",
       "</style>\n",
       "<table border=\"1\" class=\"dataframe\">\n",
       "  <thead>\n",
       "    <tr style=\"text-align: right;\">\n",
       "      <th></th>\n",
       "      <th>current</th>\n",
       "      <th>power</th>\n",
       "    </tr>\n",
       "  </thead>\n",
       "  <tbody>\n",
       "    <tr>\n",
       "      <th>count</th>\n",
       "      <td>5.000000</td>\n",
       "      <td>5.000000</td>\n",
       "    </tr>\n",
       "    <tr>\n",
       "      <th>mean</th>\n",
       "      <td>2.840000</td>\n",
       "      <td>142.000000</td>\n",
       "    </tr>\n",
       "    <tr>\n",
       "      <th>std</th>\n",
       "      <td>1.011435</td>\n",
       "      <td>58.051701</td>\n",
       "    </tr>\n",
       "    <tr>\n",
       "      <th>min</th>\n",
       "      <td>1.800000</td>\n",
       "      <td>90.000000</td>\n",
       "    </tr>\n",
       "    <tr>\n",
       "      <th>25%</th>\n",
       "      <td>2.000000</td>\n",
       "      <td>100.000000</td>\n",
       "    </tr>\n",
       "    <tr>\n",
       "      <th>50%</th>\n",
       "      <td>2.700000</td>\n",
       "      <td>110.000000</td>\n",
       "    </tr>\n",
       "    <tr>\n",
       "      <th>75%</th>\n",
       "      <td>3.500000</td>\n",
       "      <td>200.000000</td>\n",
       "    </tr>\n",
       "    <tr>\n",
       "      <th>max</th>\n",
       "      <td>4.200000</td>\n",
       "      <td>210.000000</td>\n",
       "    </tr>\n",
       "  </tbody>\n",
       "</table>\n",
       "</div>"
      ],
      "text/plain": [
       "        current       power\n",
       "count  5.000000    5.000000\n",
       "mean   2.840000  142.000000\n",
       "std    1.011435   58.051701\n",
       "min    1.800000   90.000000\n",
       "25%    2.000000  100.000000\n",
       "50%    2.700000  110.000000\n",
       "75%    3.500000  200.000000\n",
       "max    4.200000  210.000000"
      ]
     },
     "execution_count": 118,
     "metadata": {},
     "output_type": "execute_result"
    }
   ],
   "source": [
    "# Describing the dataset\n",
    "device.describe()"
   ]
  },
  {
   "cell_type": "markdown",
   "id": "4c453544",
   "metadata": {},
   "source": [
    "## Scatter Plot"
   ]
  },
  {
   "cell_type": "code",
   "execution_count": 128,
   "id": "3cfddb9c",
   "metadata": {},
   "outputs": [
    {
     "data": {
      "image/png": "[encoded data removed]",
      "text/plain": [
       "<Figure size 640x480 with 1 Axes>"
      ]
     },
     "metadata": {},
     "output_type": "display_data"
    }
   ],
   "source": [
    "x = device['current'] \n",
    "y = device['power']\n",
    "\n",
    "\n",
    "m, b, r, p_value, std_err = stats.linregress(x, y)    \n",
    "line = m*x + b  \n",
    "plt.plot(x,line\n",
    "        , color='purple', label=f'Regression line(r = {r:.3f})')\n",
    "plt.scatter(x,y, color='blue', label='Data points')\n",
    "plt.title('Device current and power Response')\n",
    "plt.ylabel('power (W)')\n",
    "plt.xlabel('current (A)')\n",
    "plt.legend()\n",
    "plt.show()\n"
   ]
  },
  {
   "cell_type": "markdown",
   "id": "18827ffb",
   "metadata": {},
   "source": [
    "## Resistance Test"
   ]
  },
  {
   "cell_type": "code",
   "execution_count": 129,
   "id": "8cf57dfc",
   "metadata": {},
   "outputs": [
    {
     "data": {
      "text/html": [
       "<div>\n",
       "<style scoped>\n",
       "    .dataframe tbody tr th:only-of-type {\n",
       "        vertical-align: middle;\n",
       "    }\n",
       "\n",
       "    .dataframe tbody tr th {\n",
       "        vertical-align: top;\n",
       "    }\n",
       "\n",
       "    .dataframe thead th {\n",
       "        text-align: right;\n",
       "    }\n",
       "</style>\n",
       "<table border=\"1\" class=\"dataframe\">\n",
       "  <thead>\n",
       "    <tr style=\"text-align: right;\">\n",
       "      <th></th>\n",
       "      <th>Test No.</th>\n",
       "      <th>Jaguar</th>\n",
       "      <th>Panther</th>\n",
       "    </tr>\n",
       "  </thead>\n",
       "  <tbody>\n",
       "    <tr>\n",
       "      <th>0</th>\n",
       "      <td>1</td>\n",
       "      <td>10.6</td>\n",
       "      <td>10.1</td>\n",
       "    </tr>\n",
       "    <tr>\n",
       "      <th>1</th>\n",
       "      <td>2</td>\n",
       "      <td>9.1</td>\n",
       "      <td>11.0</td>\n",
       "    </tr>\n",
       "    <tr>\n",
       "      <th>2</th>\n",
       "      <td>3</td>\n",
       "      <td>9.3</td>\n",
       "      <td>9.1</td>\n",
       "    </tr>\n",
       "    <tr>\n",
       "      <th>3</th>\n",
       "      <td>4</td>\n",
       "      <td>9.8</td>\n",
       "      <td>20.0</td>\n",
       "    </tr>\n",
       "    <tr>\n",
       "      <th>4</th>\n",
       "      <td>5</td>\n",
       "      <td>10.5</td>\n",
       "      <td>9.2</td>\n",
       "    </tr>\n",
       "    <tr>\n",
       "      <th>5</th>\n",
       "      <td>6</td>\n",
       "      <td>10.4</td>\n",
       "      <td>10.8</td>\n",
       "    </tr>\n",
       "    <tr>\n",
       "      <th>6</th>\n",
       "      <td>7</td>\n",
       "      <td>9.5</td>\n",
       "      <td>9.9</td>\n",
       "    </tr>\n",
       "    <tr>\n",
       "      <th>7</th>\n",
       "      <td>8</td>\n",
       "      <td>11.0</td>\n",
       "      <td>9.2</td>\n",
       "    </tr>\n",
       "    <tr>\n",
       "      <th>8</th>\n",
       "      <td>9</td>\n",
       "      <td>10.4</td>\n",
       "      <td>9.1</td>\n",
       "    </tr>\n",
       "    <tr>\n",
       "      <th>9</th>\n",
       "      <td>10</td>\n",
       "      <td>3.0</td>\n",
       "      <td>9.1</td>\n",
       "    </tr>\n",
       "    <tr>\n",
       "      <th>10</th>\n",
       "      <td>11</td>\n",
       "      <td>9.8</td>\n",
       "      <td>NaN</td>\n",
       "    </tr>\n",
       "  </tbody>\n",
       "</table>\n",
       "</div>"
      ],
      "text/plain": [
       "    Test No.  Jaguar  Panther\n",
       "0          1    10.6     10.1\n",
       "1          2     9.1     11.0\n",
       "2          3     9.3      9.1\n",
       "3          4     9.8     20.0\n",
       "4          5    10.5      9.2\n",
       "5          6    10.4     10.8\n",
       "6          7     9.5      9.9\n",
       "7          8    11.0      9.2\n",
       "8          9    10.4      9.1\n",
       "9         10     3.0      9.1\n",
       "10        11     9.8      NaN"
      ]
     },
     "execution_count": 129,
     "metadata": {},
     "output_type": "execute_result"
    }
   ],
   "source": [
    "resistance = pd.read_csv(r\"resistance-test.csv\")\n",
    "resistance"
   ]
  },
  {
   "cell_type": "code",
   "execution_count": 140,
   "id": "95f226cd",
   "metadata": {},
   "outputs": [
    {
     "data": {
      "text/plain": [
       "np.float64(9.399999999999999)"
      ]
     },
     "execution_count": 140,
     "metadata": {},
     "output_type": "execute_result"
    }
   ],
   "source": [
    "jag_mean = resistance['Jaguar'].mean()\n",
    "jag_mean"
   ]
  },
  {
   "cell_type": "code",
   "execution_count": 131,
   "id": "cd20c345",
   "metadata": {},
   "outputs": [
    {
     "data": {
      "text/plain": [
       "np.float64(10.75)"
      ]
     },
     "execution_count": 131,
     "metadata": {},
     "output_type": "execute_result"
    }
   ],
   "source": [
    "pan_mean = resistance['Panther'].mean() \n",
    "pan_mean    "
   ]
  },
  {
   "cell_type": "code",
   "execution_count": 134,
   "id": "516c5fd4",
   "metadata": {},
   "outputs": [
    {
     "data": {
      "text/plain": [
       "0     10.10\n",
       "1     11.00\n",
       "2      9.10\n",
       "3     20.00\n",
       "4      9.20\n",
       "5     10.80\n",
       "6      9.90\n",
       "7      9.20\n",
       "8      9.10\n",
       "9      9.10\n",
       "10    10.75\n",
       "Name: Panther, dtype: float64"
      ]
     },
     "execution_count": 134,
     "metadata": {},
     "output_type": "execute_result"
    }
   ],
   "source": [
    "resistance['Panther'].fillna(pan_mean)"
   ]
  },
  {
   "cell_type": "code",
   "execution_count": 135,
   "id": "3279790d",
   "metadata": {},
   "outputs": [],
   "source": [
    "resistance['Panther'] = resistance['Panther'].fillna(pan_mean)"
   ]
  },
  {
   "cell_type": "markdown",
   "id": "eaef5638",
   "metadata": {},
   "source": [
    "# Bar Graph"
   ]
  },
  {
   "cell_type": "code",
   "execution_count": 161,
   "id": "e0457525",
   "metadata": {},
   "outputs": [
    {
     "data": {
      "image/png": "[encoded data removed]",
      "text/plain": [
       "<Figure size 640x480 with 1 Axes>"
      ]
     },
     "metadata": {},
     "output_type": "display_data"
    }
   ],
   "source": [
    "bars = plt.bar(['Jaguar','Panther'],[jag_mean,pan_mean],color=['purple','blue'])\n",
    "plt.title('Average Resistance by Machine')\n",
    "plt.ylabel('Resistance (Ohm)')\n",
    "\n",
    "# bar labels\n",
    "plt.bar_label(bars, padding=3)\n",
    "plt.margins(y=0.1) #10%\n",
    "plt.show()\n",
    "\n",
    "\n"
   ]
  }
 ],
 "metadata": {
  "kernelspec": {
   "display_name": "Python 3",
   "language": "python",
   "name": "python3"
  },
  "language_info": {
   "codemirror_mode": {
    "name": "ipython",
    "version": 3
   },
   "file_extension": ".py",
   "mimetype": "text/x-python",
   "name": "python",
   "nbconvert_exporter": "python",
   "pygments_lexer": "ipython3",
   "version": "3.13.2"
  }
 },
 "nbformat": 4,
 "nbformat_minor": 5
}
