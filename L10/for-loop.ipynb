{
 "cells": [
  {
   "cell_type": "markdown",
   "id": "0eddd9ae",
   "metadata": {},
   "source": [
    "# For Loop <hr style=\"border:2.5px solid #126782\"></hr>"
   ]
  },
  {
   "cell_type": "markdown",
   "id": "f54b3303",
   "metadata": {},
   "source": [
    "Data Analyst: David Lauden R. Santero <br>\n",
    "Department: Electrical Engineering"
   ]
  },
  {
   "cell_type": "code",
   "execution_count": 40,
   "id": "3af7312d",
   "metadata": {},
   "outputs": [],
   "source": [
    "#%pip install scipy"
   ]
  },
  {
   "cell_type": "code",
   "execution_count": 26,
   "id": "86015645",
   "metadata": {},
   "outputs": [],
   "source": [
    "from scipy import stats\n",
    "\n"
   ]
  },
  {
   "cell_type": "code",
   "execution_count": 12,
   "id": "b7cf36c3",
   "metadata": {},
   "outputs": [
    {
     "name": "stdout",
     "output_type": "stream",
     "text": [
      "Collecting numpy\n",
      "  Downloading numpy-2.2.5-cp313-cp313-win_amd64.whl.metadata (60 kB)\n",
      "Downloading numpy-2.2.5-cp313-cp313-win_amd64.whl (12.6 MB)\n",
      "   ---------------------------------------- 0.0/12.6 MB ? eta -:--:--\n",
      "    --------------------------------------- 0.3/12.6 MB ? eta -:--:--\n",
      "    --------------------------------------- 0.3/12.6 MB ? eta -:--:--\n",
      "   -- ------------------------------------- 0.8/12.6 MB 1.4 MB/s eta 0:00:09\n",
      "   --- ------------------------------------ 1.0/12.6 MB 1.4 MB/s eta 0:00:09\n",
      "   ---- ----------------------------------- 1.3/12.6 MB 1.4 MB/s eta 0:00:09\n",
      "   ---- ----------------------------------- 1.6/12.6 MB 1.4 MB/s eta 0:00:08\n",
      "   ----- ---------------------------------- 1.8/12.6 MB 1.2 MB/s eta 0:00:09\n",
      "   ------ --------------------------------- 2.1/12.6 MB 1.2 MB/s eta 0:00:09\n",
      "   ------- -------------------------------- 2.4/12.6 MB 1.2 MB/s eta 0:00:09\n",
      "   -------- ------------------------------- 2.6/12.6 MB 1.3 MB/s eta 0:00:08\n",
      "   --------- ------------------------------ 2.9/12.6 MB 1.3 MB/s eta 0:00:08\n",
      "   --------- ------------------------------ 3.1/12.6 MB 1.2 MB/s eta 0:00:08\n",
      "   --------- ------------------------------ 3.1/12.6 MB 1.2 MB/s eta 0:00:08\n",
      "   ---------- ----------------------------- 3.4/12.6 MB 1.2 MB/s eta 0:00:08\n",
      "   ----------- ---------------------------- 3.7/12.6 MB 1.2 MB/s eta 0:00:08\n",
      "   ------------- -------------------------- 4.2/12.6 MB 1.2 MB/s eta 0:00:07\n",
      "   -------------- ------------------------- 4.5/12.6 MB 1.2 MB/s eta 0:00:07\n",
      "   -------------- ------------------------- 4.7/12.6 MB 1.2 MB/s eta 0:00:07\n",
      "   --------------- ------------------------ 5.0/12.6 MB 1.3 MB/s eta 0:00:07\n",
      "   ---------------- ----------------------- 5.2/12.6 MB 1.3 MB/s eta 0:00:06\n",
      "   ----------------- ---------------------- 5.5/12.6 MB 1.3 MB/s eta 0:00:06\n",
      "   ------------------ --------------------- 5.8/12.6 MB 1.2 MB/s eta 0:00:06\n",
      "   ------------------- -------------------- 6.0/12.6 MB 1.2 MB/s eta 0:00:06\n",
      "   ------------------- -------------------- 6.0/12.6 MB 1.2 MB/s eta 0:00:06\n",
      "   ------------------- -------------------- 6.3/12.6 MB 1.2 MB/s eta 0:00:06\n",
      "   -------------------- ------------------- 6.6/12.6 MB 1.2 MB/s eta 0:00:06\n",
      "   --------------------- ------------------ 6.8/12.6 MB 1.2 MB/s eta 0:00:05\n",
      "   ---------------------- ----------------- 7.1/12.6 MB 1.2 MB/s eta 0:00:05\n",
      "   ----------------------- ---------------- 7.3/12.6 MB 1.2 MB/s eta 0:00:05\n",
      "   ------------------------ --------------- 7.6/12.6 MB 1.2 MB/s eta 0:00:05\n",
      "   ------------------------ --------------- 7.9/12.6 MB 1.2 MB/s eta 0:00:05\n",
      "   ------------------------ --------------- 7.9/12.6 MB 1.2 MB/s eta 0:00:05\n",
      "   ------------------------- -------------- 8.1/12.6 MB 1.2 MB/s eta 0:00:04\n",
      "   -------------------------- ------------- 8.4/12.6 MB 1.2 MB/s eta 0:00:04\n",
      "   --------------------------- ------------ 8.7/12.6 MB 1.2 MB/s eta 0:00:04\n",
      "   ---------------------------- ----------- 8.9/12.6 MB 1.2 MB/s eta 0:00:04\n",
      "   ----------------------------- ---------- 9.2/12.6 MB 1.2 MB/s eta 0:00:03\n",
      "   ----------------------------- ---------- 9.2/12.6 MB 1.2 MB/s eta 0:00:03\n",
      "   ----------------------------- ---------- 9.4/12.6 MB 1.1 MB/s eta 0:00:03\n",
      "   ----------------------------- ---------- 9.4/12.6 MB 1.1 MB/s eta 0:00:03\n",
      "   ------------------------------ --------- 9.7/12.6 MB 1.1 MB/s eta 0:00:03\n",
      "   ------------------------------ --------- 9.7/12.6 MB 1.1 MB/s eta 0:00:03\n",
      "   ------------------------------ --------- 9.7/12.6 MB 1.1 MB/s eta 0:00:03\n",
      "   ------------------------------- -------- 10.0/12.6 MB 1.1 MB/s eta 0:00:03\n",
      "   ------------------------------- -------- 10.0/12.6 MB 1.1 MB/s eta 0:00:03\n",
      "   -------------------------------- ------- 10.2/12.6 MB 1.0 MB/s eta 0:00:03\n",
      "   --------------------------------- ------ 10.5/12.6 MB 1.0 MB/s eta 0:00:03\n",
      "   ---------------------------------- ----- 10.7/12.6 MB 1.0 MB/s eta 0:00:02\n",
      "   ---------------------------------- ----- 11.0/12.6 MB 1.0 MB/s eta 0:00:02\n",
      "   ---------------------------------- ----- 11.0/12.6 MB 1.0 MB/s eta 0:00:02\n",
      "   ----------------------------------- ---- 11.3/12.6 MB 1.0 MB/s eta 0:00:02\n",
      "   ----------------------------------- ---- 11.3/12.6 MB 1.0 MB/s eta 0:00:02\n",
      "   ----------------------------------- ---- 11.3/12.6 MB 1.0 MB/s eta 0:00:02\n",
      "   ----------------------------------- ---- 11.3/12.6 MB 1.0 MB/s eta 0:00:02\n",
      "   ----------------------------------- ---- 11.3/12.6 MB 1.0 MB/s eta 0:00:02\n",
      "   ------------------------------------ --- 11.5/12.6 MB 955.8 kB/s eta 0:00:02\n",
      "   ------------------------------------ --- 11.5/12.6 MB 955.8 kB/s eta 0:00:02\n",
      "   ------------------------------------ --- 11.5/12.6 MB 955.8 kB/s eta 0:00:02\n",
      "   ------------------------------------- -- 11.8/12.6 MB 931.5 kB/s eta 0:00:01\n",
      "   ------------------------------------- -- 11.8/12.6 MB 931.5 kB/s eta 0:00:01\n",
      "   -------------------------------------- - 12.1/12.6 MB 920.3 kB/s eta 0:00:01\n",
      "   -------------------------------------- - 12.1/12.6 MB 920.3 kB/s eta 0:00:01\n",
      "   -------------------------------------- - 12.3/12.6 MB 910.6 kB/s eta 0:00:01\n",
      "   -------------------------------------- - 12.3/12.6 MB 910.6 kB/s eta 0:00:01\n",
      "   ---------------------------------------  12.6/12.6 MB 893.9 kB/s eta 0:00:01\n",
      "   ---------------------------------------  12.6/12.6 MB 893.9 kB/s eta 0:00:01\n",
      "   ---------------------------------------- 12.6/12.6 MB 875.4 kB/s eta 0:00:00\n",
      "Installing collected packages: numpy\n",
      "Successfully installed numpy-2.2.5\n",
      "Note: you may need to restart the kernel to use updated packages.\n"
     ]
    },
    {
     "name": "stderr",
     "output_type": "stream",
     "text": [
      "  WARNING: The scripts f2py.exe and numpy-config.exe are installed in 'c:\\Users\\LENOVO\\AppData\\Local\\Programs\\Python\\Python313\\Scripts' which is not on PATH.\n",
      "  Consider adding this directory to PATH or, if you prefer to suppress this warning, use --no-warn-script-location.\n",
      "\n",
      "[notice] A new release of pip is available: 24.3.1 -> 25.1\n",
      "[notice] To update, run: python.exe -m pip install --upgrade pip\n"
     ]
    }
   ],
   "source": [
    "%pip install numpy --upgrade "
   ]
  },
  {
   "cell_type": "code",
   "execution_count": 14,
   "id": "e3167284",
   "metadata": {},
   "outputs": [],
   "source": [
    "import numpy as np\n"
   ]
  },
  {
   "cell_type": "markdown",
   "metadata": {},
   "source": [
    "# Iterating Over a List"
   ]
  },
  {
   "cell_type": "code",
   "execution_count": 1,
   "id": "64685f54",
   "metadata": {},
   "outputs": [
    {
     "name": "stdout",
     "output_type": "stream",
     "text": [
      "apple\n",
      "orange\n",
      "grapes\n"
     ]
    }
   ],
   "source": [
    "# at index 0, i = \"apple\"\n",
    "fruits = [\"apple\", \"orange\", \"grapes\"]\n",
    "for i in fruits:\n",
    "    print(i)"
   ]
  },
  {
   "cell_type": "code",
   "execution_count": 37,
   "id": "687010be",
   "metadata": {},
   "outputs": [
    {
     "name": "stdout",
     "output_type": "stream",
     "text": [
      "1\n",
      "2\n",
      "3\n",
      "4\n",
      "5\n",
      "6\n",
      "7\n",
      "8\n",
      "9\n",
      "10\n"
     ]
    }
   ],
   "source": [
    "# at index 0, n = 1 \n",
    "numbers = [1,2,3,4,5,6,7,8,9,10]\n",
    "for n in numbers:\n",
    "    print(n)           "
   ]
  },
  {
   "cell_type": "code",
   "execution_count": 15,
   "id": "7a7747d9",
   "metadata": {},
   "outputs": [
    {
     "data": {
      "text/plain": [
       "np.float64(5.5)"
      ]
     },
     "execution_count": 15,
     "metadata": {},
     "output_type": "execute_result"
    }
   ],
   "source": [
    "np.mean(numbers) "
   ]
  },
  {
   "cell_type": "code",
   "execution_count": 20,
   "id": "08bd139c",
   "metadata": {},
   "outputs": [
    {
     "data": {
      "text/plain": [
       "np.float64(2.8722813232690143)"
      ]
     },
     "execution_count": 20,
     "metadata": {},
     "output_type": "execute_result"
    }
   ],
   "source": [
    "# population stabdard deviation\n",
    "np.std(numbers)\n"
   ]
  },
  {
   "cell_type": "code",
   "execution_count": null,
   "id": "c5d8f6b3",
   "metadata": {},
   "outputs": [
    {
     "data": {
      "text/plain": [
       "np.float64(3.0276503540974917)"
      ]
     },
     "execution_count": 18,
     "metadata": {},
     "output_type": "execute_result"
    }
   ],
   "source": [
    "# sample stabdard deviation \n",
    "np.std(numbers,ddof=1)"
   ]
  },
  {
   "cell_type": "code",
   "execution_count": 21,
   "id": "6224863f",
   "metadata": {},
   "outputs": [
    {
     "data": {
      "text/plain": [
       "np.float64(5.5)"
      ]
     },
     "execution_count": 21,
     "metadata": {},
     "output_type": "execute_result"
    }
   ],
   "source": [
    "np.median(numbers)"
   ]
  },
  {
   "cell_type": "code",
   "execution_count": 38,
   "id": "52559746",
   "metadata": {},
   "outputs": [
    {
     "data": {
      "text/plain": [
       "ModeResult(mode=np.int64(1), count=np.int64(1))"
      ]
     },
     "execution_count": 38,
     "metadata": {},
     "output_type": "execute_result"
    }
   ],
   "source": [
    "stats.mode(numbers)"
   ]
  },
  {
   "cell_type": "code",
   "execution_count": 3,
   "id": "6548f240",
   "metadata": {},
   "outputs": [
    {
     "name": "stdout",
     "output_type": "stream",
     "text": [
      "1\n",
      "4\n",
      "7\n"
     ]
    }
   ],
   "source": [
    "# start at 1, ends at 10 (exlusive), steps by 3\n",
    "for j in range(1,10,3):\n",
    "    print(j)"
   ]
  },
  {
   "cell_type": "markdown",
   "id": "bea55c10",
   "metadata": {},
   "source": [
    "# Iterating Over a Dictionary"
   ]
  },
  {
   "cell_type": "code",
   "execution_count": 4,
   "id": "ce05328f",
   "metadata": {},
   "outputs": [
    {
     "name": "stdout",
     "output_type": "stream",
     "text": [
      "P\n",
      "y\n",
      "t\n",
      "h\n",
      "o\n",
      "n\n"
     ]
    }
   ],
   "source": [
    "# at index 0, char = \"P\"\n",
    "for char in \"Python\":\n",
    "    print(char)"
   ]
  },
  {
   "cell_type": "code",
   "execution_count": 9,
   "id": "42a2200e",
   "metadata": {},
   "outputs": [
    {
     "name": "stdout",
     "output_type": "stream",
     "text": [
      "Name\n",
      "position\n",
      "Salary\n",
      "Ada\n",
      "analyst\n",
      "80000\n"
     ]
    }
   ],
   "source": [
    "employee = {\"Name\":\"Ada\",\"position\":\"analyst\",\"Salary\": 80000}\n",
    "\n",
    "# starts at key = \"Name\"\n",
    "for key in employee:\n",
    "    print(key)\n",
    "\n",
    "# starts at value  = \"Ada\"\n",
    "for value in employee. values():\n",
    "    print (value)"
   ]
  }
 ],
 "metadata": {
  "kernelspec": {
   "display_name": "Python 3",
   "language": "python",
   "name": "python3"
  },
  "language_info": {
   "codemirror_mode": {
    "name": "ipython",
    "version": 3
   },
   "file_extension": ".py",
   "mimetype": "text/x-python",
   "name": "python",
   "nbconvert_exporter": "python",
   "pygments_lexer": "ipython3",
   "version": "3.13.2"
  }
 },
 "nbformat": 4,
 "nbformat_minor": 5
}
