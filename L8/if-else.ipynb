{
 "cells": [
  {
   "cell_type": "markdown",
   "id": "c588a4ec",
   "metadata": {},
   "source": [
    "# if-else Statement <hr style=\"border:2.5px solid #126782\"></hr>"
   ]
  },
  {
   "cell_type": "markdown",
   "id": "da4f69f7",
   "metadata": {},
   "source": [
    "Data Analyst: David Lauden R. Santero <br>\n",
    "Department: Electrical Engineering"
   ]
  },
  {
   "cell_type": "markdown",
   "id": "f709fa4e",
   "metadata": {},
   "source": [
    "# if statement"
   ]
  },
  {
   "cell_type": "code",
   "execution_count": 1,
   "id": "ff9bd1f5",
   "metadata": {},
   "outputs": [
    {
     "name": "stdout",
     "output_type": "stream",
     "text": [
      "PASSED!\n"
     ]
    }
   ],
   "source": [
    "# passing score is 5.0 \n",
    "grade = 7.3\n",
    "\n",
    "if grade >= 5.0:\n",
    "    print(\"PASSED!\")"
   ]
  },
  {
   "cell_type": "code",
   "execution_count": 3,
   "id": "07147d6f",
   "metadata": {},
   "outputs": [
    {
     "name": "stdout",
     "output_type": "stream",
     "text": [
      "FAILED!\n"
     ]
    }
   ],
   "source": [
    "# two if statement are evaluated \n",
    "grade = 4.5 \n",
    "\n",
    "# evaluate grade\n",
    "if grade >= 5.0:\n",
    "    print(\"PASSED!\")\n",
    "if grade < 5.0:\n",
    "    print(\"FAILED!\")"
   ]
  },
  {
   "cell_type": "markdown",
   "id": "70e025b8",
   "metadata": {},
   "source": [
    "# if-else statement"
   ]
  },
  {
   "cell_type": "code",
   "execution_count": 6,
   "id": "856a1769",
   "metadata": {},
   "outputs": [
    {
     "name": "stdout",
     "output_type": "stream",
     "text": [
      "FAILED!\n"
     ]
    }
   ],
   "source": [
    "# if grade is 5.0 is True, else will not be evaluated\n",
    "grade = 4.0 \n",
    "\n",
    "# evaluate grade \n",
    "if grade >= 5.0:\n",
    "    print(\"PASSED!\")\n",
    "else:\n",
    "    print(\"FAILED!\")"
   ]
  },
  {
   "cell_type": "markdown",
   "id": "86341229",
   "metadata": {},
   "source": [
    "# if-elif-else statement"
   ]
  },
  {
   "cell_type": "code",
   "execution_count": 5,
   "id": "417c9616",
   "metadata": {},
   "outputs": [
    {
     "name": "stdout",
     "output_type": "stream",
     "text": [
      "FAILED!\n"
     ]
    }
   ],
   "source": [
    "# if grade >= 5.0 is True, other condition will not be evaluated\n",
    "grade = 2.9\n",
    "\n",
    "# evaluate grade \n",
    "if grade >= 5.0:\n",
    "    print(\"PASSED!\")\n",
    "elif grade < 5.0: # < 5.0 evaluate first\n",
    "    print(\"FAILED!\")\n",
    "elif grade < 3.0:\n",
    "    print(\"DISMISSED!\")\n",
    "else:\n",
    "    print(\"INVALID!\")"
   ]
  },
  {
   "cell_type": "code",
   "execution_count": 7,
   "id": "b0efe5d0",
   "metadata": {},
   "outputs": [
    {
     "name": "stdout",
     "output_type": "stream",
     "text": [
      "DISMISSED!\n"
     ]
    }
   ],
   "source": [
    "# if grade >= 5.0 is True, other conditions will not be evaluated\n",
    "grade = 2.9\n",
    "\n",
    "# evaluate grade \n",
    "if grade >= 5.0:\n",
    "    print(\"PASSED!\")\n",
    "elif grade < 3.0: # < 3.0 evaluate first\n",
    "    print(\"DISMISSED!\")\n",
    "elif grade < 5.0:\n",
    "    print(\"FAILED!\")\n",
    "else: \n",
    "    print(\"INVALID!\")"
   ]
  }
 ],
 "metadata": {
  "kernelspec": {
   "display_name": "Python 3",
   "language": "python",
   "name": "python3"
  },
  "language_info": {
   "codemirror_mode": {
    "name": "ipython",
    "version": 3
   },
   "file_extension": ".py",
   "mimetype": "text/x-python",
   "name": "python",
   "nbconvert_exporter": "python",
   "pygments_lexer": "ipython3",
   "version": "3.13.2"
  }
 },
 "nbformat": 4,
 "nbformat_minor": 5
}
